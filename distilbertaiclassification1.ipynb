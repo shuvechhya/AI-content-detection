{
  "nbformat": 4,
  "nbformat_minor": 0,
  "metadata": {
    "colab": {
      "provenance": [],
      "gpuType": "T4"
    },
    "kernelspec": {
      "name": "python3",
      "display_name": "Python 3"
    },
    "language_info": {
      "name": "python"
    },
    "accelerator": "GPU"
  },
  "cells": [
    {
      "cell_type": "code",
      "source": [
        "pip install ktrain"
      ],
      "metadata": {
        "colab": {
          "base_uri": "https://localhost:8080/"
        },
        "id": "NbfJhpKAzzyk",
        "outputId": "9e186dc1-4f7d-4ea1-99fc-193e369efeb2"
      },
      "execution_count": null,
      "outputs": [
        {
          "output_type": "stream",
          "name": "stdout",
          "text": [
            "Requirement already satisfied: ktrain in /usr/local/lib/python3.10/dist-packages (0.37.6)\n",
            "Requirement already satisfied: scikit-learn in /usr/local/lib/python3.10/dist-packages (from ktrain) (1.2.2)\n",
            "Requirement already satisfied: matplotlib>=3.0.0 in /usr/local/lib/python3.10/dist-packages (from ktrain) (3.7.1)\n",
            "Requirement already satisfied: pandas>=1.0.1 in /usr/local/lib/python3.10/dist-packages (from ktrain) (1.5.3)\n",
            "Requirement already satisfied: fastprogress>=0.1.21 in /usr/local/lib/python3.10/dist-packages (from ktrain) (1.0.3)\n",
            "Requirement already satisfied: requests in /usr/local/lib/python3.10/dist-packages (from ktrain) (2.31.0)\n",
            "Requirement already satisfied: joblib in /usr/local/lib/python3.10/dist-packages (from ktrain) (1.3.2)\n",
            "Requirement already satisfied: packaging in /usr/local/lib/python3.10/dist-packages (from ktrain) (23.1)\n",
            "Requirement already satisfied: langdetect in /usr/local/lib/python3.10/dist-packages (from ktrain) (1.0.9)\n",
            "Requirement already satisfied: jieba in /usr/local/lib/python3.10/dist-packages (from ktrain) (0.42.1)\n",
            "Requirement already satisfied: cchardet in /usr/local/lib/python3.10/dist-packages (from ktrain) (2.1.7)\n",
            "Requirement already satisfied: chardet in /usr/local/lib/python3.10/dist-packages (from ktrain) (5.2.0)\n",
            "Requirement already satisfied: syntok>1.3.3 in /usr/local/lib/python3.10/dist-packages (from ktrain) (1.4.4)\n",
            "Requirement already satisfied: tika in /usr/local/lib/python3.10/dist-packages (from ktrain) (2.6.0)\n",
            "Requirement already satisfied: transformers>=4.17.0 in /usr/local/lib/python3.10/dist-packages (from ktrain) (4.32.0)\n",
            "Requirement already satisfied: sentencepiece in /usr/local/lib/python3.10/dist-packages (from ktrain) (0.1.99)\n",
            "Requirement already satisfied: keras-bert>=0.86.0 in /usr/local/lib/python3.10/dist-packages (from ktrain) (0.89.0)\n",
            "Requirement already satisfied: whoosh in /usr/local/lib/python3.10/dist-packages (from ktrain) (2.7.4)\n",
            "Requirement already satisfied: numpy in /usr/local/lib/python3.10/dist-packages (from keras-bert>=0.86.0->ktrain) (1.23.5)\n",
            "Requirement already satisfied: keras-transformer==0.40.0 in /usr/local/lib/python3.10/dist-packages (from keras-bert>=0.86.0->ktrain) (0.40.0)\n",
            "Requirement already satisfied: keras-pos-embd==0.13.0 in /usr/local/lib/python3.10/dist-packages (from keras-transformer==0.40.0->keras-bert>=0.86.0->ktrain) (0.13.0)\n",
            "Requirement already satisfied: keras-multi-head==0.29.0 in /usr/local/lib/python3.10/dist-packages (from keras-transformer==0.40.0->keras-bert>=0.86.0->ktrain) (0.29.0)\n",
            "Requirement already satisfied: keras-layer-normalization==0.16.0 in /usr/local/lib/python3.10/dist-packages (from keras-transformer==0.40.0->keras-bert>=0.86.0->ktrain) (0.16.0)\n",
            "Requirement already satisfied: keras-position-wise-feed-forward==0.8.0 in /usr/local/lib/python3.10/dist-packages (from keras-transformer==0.40.0->keras-bert>=0.86.0->ktrain) (0.8.0)\n",
            "Requirement already satisfied: keras-embed-sim==0.10.0 in /usr/local/lib/python3.10/dist-packages (from keras-transformer==0.40.0->keras-bert>=0.86.0->ktrain) (0.10.0)\n",
            "Requirement already satisfied: keras-self-attention==0.51.0 in /usr/local/lib/python3.10/dist-packages (from keras-multi-head==0.29.0->keras-transformer==0.40.0->keras-bert>=0.86.0->ktrain) (0.51.0)\n",
            "Requirement already satisfied: contourpy>=1.0.1 in /usr/local/lib/python3.10/dist-packages (from matplotlib>=3.0.0->ktrain) (1.1.0)\n",
            "Requirement already satisfied: cycler>=0.10 in /usr/local/lib/python3.10/dist-packages (from matplotlib>=3.0.0->ktrain) (0.11.0)\n",
            "Requirement already satisfied: fonttools>=4.22.0 in /usr/local/lib/python3.10/dist-packages (from matplotlib>=3.0.0->ktrain) (4.42.0)\n",
            "Requirement already satisfied: kiwisolver>=1.0.1 in /usr/local/lib/python3.10/dist-packages (from matplotlib>=3.0.0->ktrain) (1.4.4)\n",
            "Requirement already satisfied: pillow>=6.2.0 in /usr/local/lib/python3.10/dist-packages (from matplotlib>=3.0.0->ktrain) (9.4.0)\n",
            "Requirement already satisfied: pyparsing>=2.3.1 in /usr/local/lib/python3.10/dist-packages (from matplotlib>=3.0.0->ktrain) (3.1.1)\n",
            "Requirement already satisfied: python-dateutil>=2.7 in /usr/local/lib/python3.10/dist-packages (from matplotlib>=3.0.0->ktrain) (2.8.2)\n",
            "Requirement already satisfied: pytz>=2020.1 in /usr/local/lib/python3.10/dist-packages (from pandas>=1.0.1->ktrain) (2023.3)\n",
            "Requirement already satisfied: regex>2016 in /usr/local/lib/python3.10/dist-packages (from syntok>1.3.3->ktrain) (2023.6.3)\n",
            "Requirement already satisfied: filelock in /usr/local/lib/python3.10/dist-packages (from transformers>=4.17.0->ktrain) (3.12.2)\n",
            "Requirement already satisfied: huggingface-hub<1.0,>=0.15.1 in /usr/local/lib/python3.10/dist-packages (from transformers>=4.17.0->ktrain) (0.16.4)\n",
            "Requirement already satisfied: pyyaml>=5.1 in /usr/local/lib/python3.10/dist-packages (from transformers>=4.17.0->ktrain) (6.0.1)\n",
            "Requirement already satisfied: tokenizers!=0.11.3,<0.14,>=0.11.1 in /usr/local/lib/python3.10/dist-packages (from transformers>=4.17.0->ktrain) (0.13.3)\n",
            "Requirement already satisfied: safetensors>=0.3.1 in /usr/local/lib/python3.10/dist-packages (from transformers>=4.17.0->ktrain) (0.3.3)\n",
            "Requirement already satisfied: tqdm>=4.27 in /usr/local/lib/python3.10/dist-packages (from transformers>=4.17.0->ktrain) (4.66.1)\n",
            "Requirement already satisfied: six in /usr/local/lib/python3.10/dist-packages (from langdetect->ktrain) (1.16.0)\n",
            "Requirement already satisfied: charset-normalizer<4,>=2 in /usr/local/lib/python3.10/dist-packages (from requests->ktrain) (3.2.0)\n",
            "Requirement already satisfied: idna<4,>=2.5 in /usr/local/lib/python3.10/dist-packages (from requests->ktrain) (3.4)\n",
            "Requirement already satisfied: urllib3<3,>=1.21.1 in /usr/local/lib/python3.10/dist-packages (from requests->ktrain) (2.0.4)\n",
            "Requirement already satisfied: certifi>=2017.4.17 in /usr/local/lib/python3.10/dist-packages (from requests->ktrain) (2023.7.22)\n",
            "Requirement already satisfied: scipy>=1.3.2 in /usr/local/lib/python3.10/dist-packages (from scikit-learn->ktrain) (1.10.1)\n",
            "Requirement already satisfied: threadpoolctl>=2.0.0 in /usr/local/lib/python3.10/dist-packages (from scikit-learn->ktrain) (3.2.0)\n",
            "Requirement already satisfied: setuptools in /usr/local/lib/python3.10/dist-packages (from tika->ktrain) (67.7.2)\n",
            "Requirement already satisfied: fsspec in /usr/local/lib/python3.10/dist-packages (from huggingface-hub<1.0,>=0.15.1->transformers>=4.17.0->ktrain) (2023.6.0)\n",
            "Requirement already satisfied: typing-extensions>=3.7.4.3 in /usr/local/lib/python3.10/dist-packages (from huggingface-hub<1.0,>=0.15.1->transformers>=4.17.0->ktrain) (4.7.1)\n"
          ]
        }
      ]
    },
    {
      "cell_type": "code",
      "source": [
        "%reload_ext autoreload\n",
        "%autoreload 2\n",
        "%matplotlib inline\n",
        "import os\n",
        "os.environ[\"CUDA_DEVICE_ORDER\"]=\"PCI_BUS_ID\";\n",
        "os.environ[\"CUDA_VISIBLE_DEVICES\"]=\"0\";"
      ],
      "metadata": {
        "id": "zyunnKf41x1G"
      },
      "execution_count": null,
      "outputs": []
    },
    {
      "cell_type": "code",
      "execution_count": null,
      "metadata": {
        "id": "1XDlBtyMipbr"
      },
      "outputs": [],
      "source": [
        "import os\n",
        "import pandas as pd\n",
        "from sklearn.model_selection import train_test_split\n",
        "import ktrain\n",
        "from ktrain import text"
      ]
    },
    {
      "cell_type": "code",
      "source": [
        "categories = [\"Human\", \"GPT4\", \"GPT3\"]"
      ],
      "metadata": {
        "id": "XLMKCro64MzP"
      },
      "execution_count": null,
      "outputs": []
    },
    {
      "cell_type": "code",
      "source": [
        "data = pd.read_csv(\"/all_data.csv\")"
      ],
      "metadata": {
        "id": "NiOv-wOj0HQz"
      },
      "execution_count": null,
      "outputs": []
    },
    {
      "cell_type": "code",
      "source": [
        "data.head()"
      ],
      "metadata": {
        "colab": {
          "base_uri": "https://localhost:8080/",
          "height": 206
        },
        "id": "RYD-tGF41PUx",
        "outputId": "a701cc1c-a654-429d-ecae-1e342373ce39"
      },
      "execution_count": null,
      "outputs": [
        {
          "output_type": "execute_result",
          "data": {
            "text/plain": [
              "                                                text                 domain  \\\n",
              "0  I favor preparing meals at home. Primarily, it...  TOEFL_gpt4polished_91   \n",
              "1  The destination I'm most eager to explore is o...  TOEFL_gpt4polished_91   \n",
              "2  I envision my life ten years from now as one o...  TOEFL_gpt4polished_91   \n",
              "3  Personally, I find Peking University to be inc...  TOEFL_gpt4polished_91   \n",
              "4  I'm confident in pursuing my passion. While I ...  TOEFL_gpt4polished_91   \n",
              "\n",
              "                     name          kind model  \n",
              "0  Fake TOEFL - GPT4 - PE  AI-Generated  GPT4  \n",
              "1  Fake TOEFL - GPT4 - PE  AI-Generated  GPT4  \n",
              "2  Fake TOEFL - GPT4 - PE  AI-Generated  GPT4  \n",
              "3  Fake TOEFL - GPT4 - PE  AI-Generated  GPT4  \n",
              "4  Fake TOEFL - GPT4 - PE  AI-Generated  GPT4  "
            ],
            "text/html": [
              "\n",
              "  <div id=\"df-28283700-8681-4861-8848-16321373f461\" class=\"colab-df-container\">\n",
              "    <div>\n",
              "<style scoped>\n",
              "    .dataframe tbody tr th:only-of-type {\n",
              "        vertical-align: middle;\n",
              "    }\n",
              "\n",
              "    .dataframe tbody tr th {\n",
              "        vertical-align: top;\n",
              "    }\n",
              "\n",
              "    .dataframe thead th {\n",
              "        text-align: right;\n",
              "    }\n",
              "</style>\n",
              "<table border=\"1\" class=\"dataframe\">\n",
              "  <thead>\n",
              "    <tr style=\"text-align: right;\">\n",
              "      <th></th>\n",
              "      <th>text</th>\n",
              "      <th>domain</th>\n",
              "      <th>name</th>\n",
              "      <th>kind</th>\n",
              "      <th>model</th>\n",
              "    </tr>\n",
              "  </thead>\n",
              "  <tbody>\n",
              "    <tr>\n",
              "      <th>0</th>\n",
              "      <td>I favor preparing meals at home. Primarily, it...</td>\n",
              "      <td>TOEFL_gpt4polished_91</td>\n",
              "      <td>Fake TOEFL - GPT4 - PE</td>\n",
              "      <td>AI-Generated</td>\n",
              "      <td>GPT4</td>\n",
              "    </tr>\n",
              "    <tr>\n",
              "      <th>1</th>\n",
              "      <td>The destination I'm most eager to explore is o...</td>\n",
              "      <td>TOEFL_gpt4polished_91</td>\n",
              "      <td>Fake TOEFL - GPT4 - PE</td>\n",
              "      <td>AI-Generated</td>\n",
              "      <td>GPT4</td>\n",
              "    </tr>\n",
              "    <tr>\n",
              "      <th>2</th>\n",
              "      <td>I envision my life ten years from now as one o...</td>\n",
              "      <td>TOEFL_gpt4polished_91</td>\n",
              "      <td>Fake TOEFL - GPT4 - PE</td>\n",
              "      <td>AI-Generated</td>\n",
              "      <td>GPT4</td>\n",
              "    </tr>\n",
              "    <tr>\n",
              "      <th>3</th>\n",
              "      <td>Personally, I find Peking University to be inc...</td>\n",
              "      <td>TOEFL_gpt4polished_91</td>\n",
              "      <td>Fake TOEFL - GPT4 - PE</td>\n",
              "      <td>AI-Generated</td>\n",
              "      <td>GPT4</td>\n",
              "    </tr>\n",
              "    <tr>\n",
              "      <th>4</th>\n",
              "      <td>I'm confident in pursuing my passion. While I ...</td>\n",
              "      <td>TOEFL_gpt4polished_91</td>\n",
              "      <td>Fake TOEFL - GPT4 - PE</td>\n",
              "      <td>AI-Generated</td>\n",
              "      <td>GPT4</td>\n",
              "    </tr>\n",
              "  </tbody>\n",
              "</table>\n",
              "</div>\n",
              "    <div class=\"colab-df-buttons\">\n",
              "\n",
              "  <div class=\"colab-df-container\">\n",
              "    <button class=\"colab-df-convert\" onclick=\"convertToInteractive('df-28283700-8681-4861-8848-16321373f461')\"\n",
              "            title=\"Convert this dataframe to an interactive table.\"\n",
              "            style=\"display:none;\">\n",
              "\n",
              "  <svg xmlns=\"http://www.w3.org/2000/svg\" height=\"24px\" viewBox=\"0 -960 960 960\">\n",
              "    <path d=\"M120-120v-720h720v720H120Zm60-500h600v-160H180v160Zm220 220h160v-160H400v160Zm0 220h160v-160H400v160ZM180-400h160v-160H180v160Zm440 0h160v-160H620v160ZM180-180h160v-160H180v160Zm440 0h160v-160H620v160Z\"/>\n",
              "  </svg>\n",
              "    </button>\n",
              "\n",
              "  <style>\n",
              "    .colab-df-container {\n",
              "      display:flex;\n",
              "      gap: 12px;\n",
              "    }\n",
              "\n",
              "    .colab-df-convert {\n",
              "      background-color: #E8F0FE;\n",
              "      border: none;\n",
              "      border-radius: 50%;\n",
              "      cursor: pointer;\n",
              "      display: none;\n",
              "      fill: #1967D2;\n",
              "      height: 32px;\n",
              "      padding: 0 0 0 0;\n",
              "      width: 32px;\n",
              "    }\n",
              "\n",
              "    .colab-df-convert:hover {\n",
              "      background-color: #E2EBFA;\n",
              "      box-shadow: 0px 1px 2px rgba(60, 64, 67, 0.3), 0px 1px 3px 1px rgba(60, 64, 67, 0.15);\n",
              "      fill: #174EA6;\n",
              "    }\n",
              "\n",
              "    .colab-df-buttons div {\n",
              "      margin-bottom: 4px;\n",
              "    }\n",
              "\n",
              "    [theme=dark] .colab-df-convert {\n",
              "      background-color: #3B4455;\n",
              "      fill: #D2E3FC;\n",
              "    }\n",
              "\n",
              "    [theme=dark] .colab-df-convert:hover {\n",
              "      background-color: #434B5C;\n",
              "      box-shadow: 0px 1px 3px 1px rgba(0, 0, 0, 0.15);\n",
              "      filter: drop-shadow(0px 1px 2px rgba(0, 0, 0, 0.3));\n",
              "      fill: #FFFFFF;\n",
              "    }\n",
              "  </style>\n",
              "\n",
              "    <script>\n",
              "      const buttonEl =\n",
              "        document.querySelector('#df-28283700-8681-4861-8848-16321373f461 button.colab-df-convert');\n",
              "      buttonEl.style.display =\n",
              "        google.colab.kernel.accessAllowed ? 'block' : 'none';\n",
              "\n",
              "      async function convertToInteractive(key) {\n",
              "        const element = document.querySelector('#df-28283700-8681-4861-8848-16321373f461');\n",
              "        const dataTable =\n",
              "          await google.colab.kernel.invokeFunction('convertToInteractive',\n",
              "                                                    [key], {});\n",
              "        if (!dataTable) return;\n",
              "\n",
              "        const docLinkHtml = 'Like what you see? Visit the ' +\n",
              "          '<a target=\"_blank\" href=https://colab.research.google.com/notebooks/data_table.ipynb>data table notebook</a>'\n",
              "          + ' to learn more about interactive tables.';\n",
              "        element.innerHTML = '';\n",
              "        dataTable['output_type'] = 'display_data';\n",
              "        await google.colab.output.renderOutput(dataTable, element);\n",
              "        const docLink = document.createElement('div');\n",
              "        docLink.innerHTML = docLinkHtml;\n",
              "        element.appendChild(docLink);\n",
              "      }\n",
              "    </script>\n",
              "  </div>\n",
              "\n",
              "\n",
              "<div id=\"df-9ca98ea4-a032-49a5-bb5e-fe52dcc19819\">\n",
              "  <button class=\"colab-df-quickchart\" onclick=\"quickchart('df-9ca98ea4-a032-49a5-bb5e-fe52dcc19819')\"\n",
              "            title=\"Suggest charts.\"\n",
              "            style=\"display:none;\">\n",
              "\n",
              "<svg xmlns=\"http://www.w3.org/2000/svg\" height=\"24px\"viewBox=\"0 0 24 24\"\n",
              "     width=\"24px\">\n",
              "    <g>\n",
              "        <path d=\"M19 3H5c-1.1 0-2 .9-2 2v14c0 1.1.9 2 2 2h14c1.1 0 2-.9 2-2V5c0-1.1-.9-2-2-2zM9 17H7v-7h2v7zm4 0h-2V7h2v10zm4 0h-2v-4h2v4z\"/>\n",
              "    </g>\n",
              "</svg>\n",
              "  </button>\n",
              "\n",
              "<style>\n",
              "  .colab-df-quickchart {\n",
              "    background-color: #E8F0FE;\n",
              "    border: none;\n",
              "    border-radius: 50%;\n",
              "    cursor: pointer;\n",
              "    display: none;\n",
              "    fill: #1967D2;\n",
              "    height: 32px;\n",
              "    padding: 0 0 0 0;\n",
              "    width: 32px;\n",
              "  }\n",
              "\n",
              "  .colab-df-quickchart:hover {\n",
              "    background-color: #E2EBFA;\n",
              "    box-shadow: 0px 1px 2px rgba(60, 64, 67, 0.3), 0px 1px 3px 1px rgba(60, 64, 67, 0.15);\n",
              "    fill: #174EA6;\n",
              "  }\n",
              "\n",
              "  [theme=dark] .colab-df-quickchart {\n",
              "    background-color: #3B4455;\n",
              "    fill: #D2E3FC;\n",
              "  }\n",
              "\n",
              "  [theme=dark] .colab-df-quickchart:hover {\n",
              "    background-color: #434B5C;\n",
              "    box-shadow: 0px 1px 3px 1px rgba(0, 0, 0, 0.15);\n",
              "    filter: drop-shadow(0px 1px 2px rgba(0, 0, 0, 0.3));\n",
              "    fill: #FFFFFF;\n",
              "  }\n",
              "</style>\n",
              "\n",
              "  <script>\n",
              "    async function quickchart(key) {\n",
              "      const charts = await google.colab.kernel.invokeFunction(\n",
              "          'suggestCharts', [key], {});\n",
              "    }\n",
              "    (() => {\n",
              "      let quickchartButtonEl =\n",
              "        document.querySelector('#df-9ca98ea4-a032-49a5-bb5e-fe52dcc19819 button');\n",
              "      quickchartButtonEl.style.display =\n",
              "        google.colab.kernel.accessAllowed ? 'block' : 'none';\n",
              "    })();\n",
              "  </script>\n",
              "</div>\n",
              "    </div>\n",
              "  </div>\n"
            ]
          },
          "metadata": {},
          "execution_count": 8
        }
      ]
    },
    {
      "cell_type": "code",
      "source": [
        "X = data[\"text\"].tolist()\n",
        "y = data[\"model\"].tolist()"
      ],
      "metadata": {
        "id": "vAcQoyJg1Xdh"
      },
      "execution_count": null,
      "outputs": []
    },
    {
      "cell_type": "code",
      "source": [
        "X_train, X_test, y_train, y_test = train_test_split(X, y, test_size=0.2, random_state=0)\n"
      ],
      "metadata": {
        "id": "C9ZdzKRd1fd-"
      },
      "execution_count": null,
      "outputs": []
    },
    {
      "cell_type": "code",
      "source": [
        "model_name = 'distilbert-base-uncased'\n",
        "trans = text.Transformer(model_name, maxlen=512, class_names=categories)"
      ],
      "metadata": {
        "id": "dFwI7Ew31kv1"
      },
      "execution_count": null,
      "outputs": []
    },
    {
      "cell_type": "code",
      "source": [
        "train_data = trans.preprocess_train(X_train, y_train)\n",
        "test_data = trans.preprocess_test(X_test, y_test)"
      ],
      "metadata": {
        "colab": {
          "base_uri": "https://localhost:8080/",
          "height": 283
        },
        "id": "ujCIFIB52OQ3",
        "outputId": "6a7094ea-601e-4dfb-92b8-c36e2ae4a642"
      },
      "execution_count": null,
      "outputs": [
        {
          "output_type": "stream",
          "name": "stdout",
          "text": [
            "preprocessing train...\n",
            "language: en\n",
            "train sequence lengths:\n",
            "\tmean : 181\n",
            "\t95percentile : 625\n",
            "\t99percentile : 650\n"
          ]
        },
        {
          "output_type": "stream",
          "name": "stderr",
          "text": [
            "/usr/local/lib/python3.10/dist-packages/ktrain/utils.py:744: UserWarning: class_names argument was ignored, as they were extracted from string labels in dataset\n",
            "  warnings.warn(\n"
          ]
        },
        {
          "output_type": "display_data",
          "data": {
            "text/plain": [
              "<IPython.core.display.HTML object>"
            ],
            "text/html": [
              "\n",
              "<style>\n",
              "    /* Turns off some styling */\n",
              "    progress {\n",
              "        /* gets rid of default border in Firefox and Opera. */\n",
              "        border: none;\n",
              "        /* Needs to be in here for Safari polyfill so background images work as expected. */\n",
              "        background-size: auto;\n",
              "    }\n",
              "    progress:not([value]), progress:not([value])::-webkit-progress-bar {\n",
              "        background: repeating-linear-gradient(45deg, #7e7e7e, #7e7e7e 10px, #5c5c5c 10px, #5c5c5c 20px);\n",
              "    }\n",
              "    .progress-bar-interrupted, .progress-bar-interrupted::-webkit-progress-bar {\n",
              "        background: #F44336;\n",
              "    }\n",
              "</style>\n"
            ]
          },
          "metadata": {}
        },
        {
          "output_type": "display_data",
          "data": {
            "text/plain": [
              "<IPython.core.display.HTML object>"
            ],
            "text/html": []
          },
          "metadata": {}
        },
        {
          "output_type": "stream",
          "name": "stdout",
          "text": [
            "Is Multi-Label? False\n",
            "preprocessing test...\n",
            "language: en\n",
            "test sequence lengths:\n",
            "\tmean : 182\n",
            "\t95percentile : 630\n",
            "\t99percentile : 814\n"
          ]
        },
        {
          "output_type": "display_data",
          "data": {
            "text/plain": [
              "<IPython.core.display.HTML object>"
            ],
            "text/html": [
              "\n",
              "<style>\n",
              "    /* Turns off some styling */\n",
              "    progress {\n",
              "        /* gets rid of default border in Firefox and Opera. */\n",
              "        border: none;\n",
              "        /* Needs to be in here for Safari polyfill so background images work as expected. */\n",
              "        background-size: auto;\n",
              "    }\n",
              "    progress:not([value]), progress:not([value])::-webkit-progress-bar {\n",
              "        background: repeating-linear-gradient(45deg, #7e7e7e, #7e7e7e 10px, #5c5c5c 10px, #5c5c5c 20px);\n",
              "    }\n",
              "    .progress-bar-interrupted, .progress-bar-interrupted::-webkit-progress-bar {\n",
              "        background: #F44336;\n",
              "    }\n",
              "</style>\n"
            ]
          },
          "metadata": {}
        },
        {
          "output_type": "display_data",
          "data": {
            "text/plain": [
              "<IPython.core.display.HTML object>"
            ],
            "text/html": []
          },
          "metadata": {}
        }
      ]
    },
    {
      "cell_type": "code",
      "source": [
        "model = trans.get_classifier()"
      ],
      "metadata": {
        "id": "2la3eIRV2VQ4"
      },
      "execution_count": null,
      "outputs": []
    },
    {
      "cell_type": "code",
      "source": [
        "learner = ktrain.get_learner(model, train_data=train_data, val_data=test_data, batch_size=16 )"
      ],
      "metadata": {
        "id": "1zTbgfJE2ffo"
      },
      "execution_count": null,
      "outputs": []
    },
    {
      "cell_type": "code",
      "source": [
        "learner.lr_find(show_plot=True, max_epochs = 10)"
      ],
      "metadata": {
        "colab": {
          "base_uri": "https://localhost:8080/",
          "height": 847
        },
        "id": "LzYGC1Cc41jg",
        "outputId": "a77c9ac4-be9e-42f9-f43f-273090e3afc3"
      },
      "execution_count": null,
      "outputs": [
        {
          "output_type": "stream",
          "name": "stdout",
          "text": [
            "simulating training for different learning rates... this may take a few moments...\n",
            "Epoch 1/10\n",
            "37/37 [==============================] - 36s 966ms/step - loss: 0.6582 - accuracy: 0.7111\n",
            "Epoch 2/10\n",
            "37/37 [==============================] - 34s 924ms/step - loss: 0.5612 - accuracy: 0.7564\n",
            "Epoch 3/10\n",
            "37/37 [==============================] - 34s 924ms/step - loss: 0.4571 - accuracy: 0.7976\n",
            "Epoch 4/10\n",
            "37/37 [==============================] - 34s 920ms/step - loss: 0.3684 - accuracy: 0.8405\n",
            "Epoch 5/10\n",
            "37/37 [==============================] - 34s 917ms/step - loss: 0.4970 - accuracy: 0.8010\n",
            "Epoch 6/10\n",
            "37/37 [==============================] - 34s 918ms/step - loss: 1.1385 - accuracy: 0.3911\n",
            "Epoch 7/10\n",
            "37/37 [==============================] - 34s 911ms/step - loss: 1.1050 - accuracy: 0.4220\n",
            "Epoch 8/10\n",
            "37/37 [==============================] - 30s 796ms/step - loss: 18.8373 - accuracy: 0.4046\n",
            "\n",
            "\n",
            "done.\n",
            "Visually inspect loss plot and select learning rate associated with falling loss\n"
          ]
        },
        {
          "output_type": "display_data",
          "data": {
            "text/plain": [
              "<Figure size 640x480 with 1 Axes>"
            ],
            "image/png": "[encoded data removed]"
          },
          "metadata": {}
        }
      ]
    },
    {
      "cell_type": "code",
      "source": [
        "learner.fit_onecycle(1e-4, 100)"
      ],
      "metadata": {
        "colab": {
          "base_uri": "https://localhost:8080/"
        },
        "id": "0zOfc_x82kHc",
        "outputId": "6d7f987b-27c5-44df-a89b-ce7cd0bbf744"
      },
      "execution_count": null,
      "outputs": [
        {
          "output_type": "stream",
          "name": "stdout",
          "text": [
            "\n",
            "\n",
            "begin training using onecycle policy with max lr of 0.0001...\n",
            "Epoch 1/100\n",
            "38/38 [==============================] - 50s 1s/step - loss: 0.8557 - accuracy: 0.5893 - val_loss: 0.5982 - val_accuracy: 0.7000\n",
            "Epoch 2/100\n",
            "38/38 [==============================] - 37s 984ms/step - loss: 0.4357 - accuracy: 0.7880 - val_loss: 0.4881 - val_accuracy: 0.8267\n",
            "Epoch 3/100\n",
            "38/38 [==============================] - 37s 977ms/step - loss: 0.2632 - accuracy: 0.8932 - val_loss: 0.2948 - val_accuracy: 0.8933\n",
            "Epoch 4/100\n",
            "38/38 [==============================] - 39s 1s/step - loss: 0.1442 - accuracy: 0.9549 - val_loss: 0.2191 - val_accuracy: 0.9200\n",
            "Epoch 5/100\n",
            "38/38 [==============================] - 37s 980ms/step - loss: 0.0949 - accuracy: 0.9683 - val_loss: 0.2824 - val_accuracy: 0.9067\n",
            "Epoch 6/100\n",
            "38/38 [==============================] - 37s 984ms/step - loss: 0.0499 - accuracy: 0.9866 - val_loss: 0.2168 - val_accuracy: 0.9400\n",
            "Epoch 7/100\n",
            "38/38 [==============================] - 37s 982ms/step - loss: 0.0310 - accuracy: 0.9917 - val_loss: 0.3648 - val_accuracy: 0.8867\n",
            "Epoch 8/100\n",
            "38/38 [==============================] - 37s 981ms/step - loss: 0.0549 - accuracy: 0.9800 - val_loss: 0.2716 - val_accuracy: 0.9333\n",
            "Epoch 9/100\n",
            "38/38 [==============================] - 37s 981ms/step - loss: 0.0352 - accuracy: 0.9900 - val_loss: 0.2184 - val_accuracy: 0.9467\n",
            "Epoch 10/100\n",
            "38/38 [==============================] - 37s 981ms/step - loss: 0.0100 - accuracy: 0.9983 - val_loss: 0.2540 - val_accuracy: 0.9467\n",
            "Epoch 11/100\n",
            "38/38 [==============================] - 37s 980ms/step - loss: 0.0149 - accuracy: 0.9933 - val_loss: 0.2440 - val_accuracy: 0.9533\n",
            "Epoch 12/100\n",
            "38/38 [==============================] - 37s 983ms/step - loss: 0.0157 - accuracy: 0.9967 - val_loss: 0.4616 - val_accuracy: 0.8933\n",
            "Epoch 13/100\n",
            "38/38 [==============================] - 37s 984ms/step - loss: 0.0432 - accuracy: 0.9850 - val_loss: 0.2101 - val_accuracy: 0.9467\n",
            "Epoch 14/100\n",
            "38/38 [==============================] - 37s 983ms/step - loss: 0.0144 - accuracy: 0.9983 - val_loss: 0.2597 - val_accuracy: 0.9333\n",
            "Epoch 15/100\n",
            "38/38 [==============================] - 37s 981ms/step - loss: 0.0126 - accuracy: 0.9967 - val_loss: 0.2662 - val_accuracy: 0.9133\n",
            "Epoch 16/100\n",
            "38/38 [==============================] - 37s 981ms/step - loss: 0.0026 - accuracy: 1.0000 - val_loss: 0.2561 - val_accuracy: 0.9333\n",
            "Epoch 17/100\n",
            "38/38 [==============================] - 39s 1s/step - loss: 0.0015 - accuracy: 1.0000 - val_loss: 0.2698 - val_accuracy: 0.9333\n",
            "Epoch 18/100\n",
            "38/38 [==============================] - 37s 982ms/step - loss: 0.0012 - accuracy: 1.0000 - val_loss: 0.2718 - val_accuracy: 0.9400\n",
            "Epoch 19/100\n",
            "38/38 [==============================] - 37s 980ms/step - loss: 9.8811e-04 - accuracy: 1.0000 - val_loss: 0.2805 - val_accuracy: 0.9400\n",
            "Epoch 20/100\n",
            "38/38 [==============================] - 37s 981ms/step - loss: 8.4778e-04 - accuracy: 1.0000 - val_loss: 0.2913 - val_accuracy: 0.9333\n",
            "Epoch 21/100\n",
            "38/38 [==============================] - 37s 978ms/step - loss: 7.3238e-04 - accuracy: 1.0000 - val_loss: 0.2963 - val_accuracy: 0.9333\n",
            "Epoch 22/100\n",
            "38/38 [==============================] - 37s 981ms/step - loss: 6.5548e-04 - accuracy: 1.0000 - val_loss: 0.3022 - val_accuracy: 0.9400\n",
            "Epoch 23/100\n",
            "38/38 [==============================] - 39s 1s/step - loss: 5.9056e-04 - accuracy: 1.0000 - val_loss: 0.3088 - val_accuracy: 0.9333\n",
            "Epoch 24/100\n",
            "38/38 [==============================] - 37s 982ms/step - loss: 5.0857e-04 - accuracy: 1.0000 - val_loss: 0.3111 - val_accuracy: 0.9400\n",
            "Epoch 25/100\n",
            "38/38 [==============================] - 37s 982ms/step - loss: 4.4100e-04 - accuracy: 1.0000 - val_loss: 0.3135 - val_accuracy: 0.9400\n",
            "Epoch 26/100\n",
            "38/38 [==============================] - 37s 982ms/step - loss: 4.0630e-04 - accuracy: 1.0000 - val_loss: 0.3186 - val_accuracy: 0.9400\n",
            "Epoch 27/100\n",
            "38/38 [==============================] - 37s 982ms/step - loss: 3.6161e-04 - accuracy: 1.0000 - val_loss: 0.3227 - val_accuracy: 0.9400\n",
            "Epoch 28/100\n",
            "38/38 [==============================] - 37s 981ms/step - loss: 3.2863e-04 - accuracy: 1.0000 - val_loss: 0.3286 - val_accuracy: 0.9400\n",
            "Epoch 29/100\n",
            "38/38 [==============================] - 37s 981ms/step - loss: 3.0624e-04 - accuracy: 1.0000 - val_loss: 0.3338 - val_accuracy: 0.9400\n",
            "Epoch 30/100\n",
            "38/38 [==============================] - 39s 1s/step - loss: 2.7234e-04 - accuracy: 1.0000 - val_loss: 0.3377 - val_accuracy: 0.9400\n",
            "Epoch 31/100\n",
            "38/38 [==============================] - 37s 981ms/step - loss: 2.4470e-04 - accuracy: 1.0000 - val_loss: 0.3406 - val_accuracy: 0.9400\n",
            "Epoch 32/100\n",
            "38/38 [==============================] - 37s 983ms/step - loss: 2.2845e-04 - accuracy: 1.0000 - val_loss: 0.3439 - val_accuracy: 0.9400\n",
            "Epoch 33/100\n",
            "38/38 [==============================] - 39s 1s/step - loss: 2.0200e-04 - accuracy: 1.0000 - val_loss: 0.3474 - val_accuracy: 0.9400\n",
            "Epoch 34/100\n",
            "38/38 [==============================] - 37s 982ms/step - loss: 1.9589e-04 - accuracy: 1.0000 - val_loss: 0.3530 - val_accuracy: 0.9400\n",
            "Epoch 35/100\n",
            "38/38 [==============================] - 37s 979ms/step - loss: 1.7412e-04 - accuracy: 1.0000 - val_loss: 0.3564 - val_accuracy: 0.9400\n",
            "Epoch 36/100\n",
            "38/38 [==============================] - 37s 981ms/step - loss: 1.5848e-04 - accuracy: 1.0000 - val_loss: 0.3595 - val_accuracy: 0.9400\n",
            "Epoch 37/100\n",
            "38/38 [==============================] - 39s 1s/step - loss: 1.4998e-04 - accuracy: 1.0000 - val_loss: 0.3634 - val_accuracy: 0.9400\n",
            "Epoch 38/100\n",
            "38/38 [==============================] - 37s 981ms/step - loss: 1.3543e-04 - accuracy: 1.0000 - val_loss: 0.3664 - val_accuracy: 0.9400\n",
            "Epoch 39/100\n",
            "38/38 [==============================] - 37s 982ms/step - loss: 1.2386e-04 - accuracy: 1.0000 - val_loss: 0.3699 - val_accuracy: 0.9400\n",
            "Epoch 40/100\n",
            "38/38 [==============================] - 37s 981ms/step - loss: 1.1579e-04 - accuracy: 1.0000 - val_loss: 0.3715 - val_accuracy: 0.9400\n",
            "Epoch 41/100\n",
            "38/38 [==============================] - 37s 979ms/step - loss: 1.0843e-04 - accuracy: 1.0000 - val_loss: 0.3750 - val_accuracy: 0.9400\n",
            "Epoch 42/100\n",
            "38/38 [==============================] - 37s 980ms/step - loss: 9.9212e-05 - accuracy: 1.0000 - val_loss: 0.3786 - val_accuracy: 0.9400\n",
            "Epoch 43/100\n",
            "38/38 [==============================] - 37s 981ms/step - loss: 9.5041e-05 - accuracy: 1.0000 - val_loss: 0.3824 - val_accuracy: 0.9400\n",
            "Epoch 44/100\n",
            "38/38 [==============================] - 37s 980ms/step - loss: 8.5814e-05 - accuracy: 1.0000 - val_loss: 0.3857 - val_accuracy: 0.9400\n",
            "Epoch 45/100\n",
            "38/38 [==============================] - 37s 980ms/step - loss: 7.9902e-05 - accuracy: 1.0000 - val_loss: 0.3891 - val_accuracy: 0.9400\n",
            "Epoch 46/100\n",
            "38/38 [==============================] - 37s 981ms/step - loss: 7.7326e-05 - accuracy: 1.0000 - val_loss: 0.3915 - val_accuracy: 0.9400\n",
            "Epoch 47/100\n",
            "38/38 [==============================] - 37s 980ms/step - loss: 6.8945e-05 - accuracy: 1.0000 - val_loss: 0.3954 - val_accuracy: 0.9400\n",
            "Epoch 48/100\n",
            "38/38 [==============================] - 37s 981ms/step - loss: 6.4664e-05 - accuracy: 1.0000 - val_loss: 0.3981 - val_accuracy: 0.9400\n",
            "Epoch 49/100\n",
            "38/38 [==============================] - 37s 982ms/step - loss: 6.2960e-05 - accuracy: 1.0000 - val_loss: 0.4007 - val_accuracy: 0.9400\n",
            "Epoch 50/100\n",
            "38/38 [==============================] - 37s 980ms/step - loss: 5.8176e-05 - accuracy: 1.0000 - val_loss: 0.4037 - val_accuracy: 0.9400\n",
            "Epoch 51/100\n",
            "38/38 [==============================] - 39s 1s/step - loss: 5.5397e-05 - accuracy: 1.0000 - val_loss: 0.4064 - val_accuracy: 0.9400\n",
            "Epoch 52/100\n",
            "38/38 [==============================] - 37s 981ms/step - loss: 5.3427e-05 - accuracy: 1.0000 - val_loss: 0.4089 - val_accuracy: 0.9400\n",
            "Epoch 53/100\n",
            "38/38 [==============================] - 37s 981ms/step - loss: 4.7477e-05 - accuracy: 1.0000 - val_loss: 0.4111 - val_accuracy: 0.9400\n",
            "Epoch 54/100\n",
            "38/38 [==============================] - 37s 979ms/step - loss: 4.5841e-05 - accuracy: 1.0000 - val_loss: 0.4124 - val_accuracy: 0.9400\n",
            "Epoch 55/100\n",
            "38/38 [==============================] - 37s 981ms/step - loss: 4.4060e-05 - accuracy: 1.0000 - val_loss: 0.4148 - val_accuracy: 0.9400\n",
            "Epoch 56/100\n",
            "38/38 [==============================] - 39s 1s/step - loss: 3.8515e-05 - accuracy: 1.0000 - val_loss: 0.4170 - val_accuracy: 0.9400\n",
            "Epoch 57/100\n",
            "38/38 [==============================] - 37s 981ms/step - loss: 3.8568e-05 - accuracy: 1.0000 - val_loss: 0.4191 - val_accuracy: 0.9400\n",
            "Epoch 58/100\n",
            "38/38 [==============================] - 37s 984ms/step - loss: 3.7414e-05 - accuracy: 1.0000 - val_loss: 0.4212 - val_accuracy: 0.9400\n",
            "Epoch 59/100\n",
            "38/38 [==============================] - 37s 982ms/step - loss: 3.5351e-05 - accuracy: 1.0000 - val_loss: 0.4229 - val_accuracy: 0.9400\n",
            "Epoch 60/100\n",
            "38/38 [==============================] - 39s 1s/step - loss: 3.3891e-05 - accuracy: 1.0000 - val_loss: 0.4247 - val_accuracy: 0.9400\n",
            "Epoch 61/100\n",
            "38/38 [==============================] - 37s 982ms/step - loss: 3.4270e-05 - accuracy: 1.0000 - val_loss: 0.4266 - val_accuracy: 0.9400\n",
            "Epoch 62/100\n",
            "38/38 [==============================] - 37s 983ms/step - loss: 3.2064e-05 - accuracy: 1.0000 - val_loss: 0.4283 - val_accuracy: 0.9400\n",
            "Epoch 63/100\n",
            "38/38 [==============================] - 37s 982ms/step - loss: 2.9850e-05 - accuracy: 1.0000 - val_loss: 0.4305 - val_accuracy: 0.9400\n",
            "Epoch 64/100\n",
            "38/38 [==============================] - 37s 981ms/step - loss: 3.0597e-05 - accuracy: 1.0000 - val_loss: 0.4315 - val_accuracy: 0.9400\n",
            "Epoch 65/100\n",
            "38/38 [==============================] - 37s 980ms/step - loss: 2.8497e-05 - accuracy: 1.0000 - val_loss: 0.4331 - val_accuracy: 0.9400\n",
            "Epoch 66/100\n",
            "38/38 [==============================] - 37s 982ms/step - loss: 2.8348e-05 - accuracy: 1.0000 - val_loss: 0.4346 - val_accuracy: 0.9400\n",
            "Epoch 67/100\n",
            "38/38 [==============================] - 37s 981ms/step - loss: 2.8185e-05 - accuracy: 1.0000 - val_loss: 0.4363 - val_accuracy: 0.9400\n",
            "Epoch 68/100\n",
            "38/38 [==============================] - 37s 980ms/step - loss: 2.6067e-05 - accuracy: 1.0000 - val_loss: 0.4379 - val_accuracy: 0.9400\n",
            "Epoch 69/100\n",
            "38/38 [==============================] - 37s 982ms/step - loss: 2.4845e-05 - accuracy: 1.0000 - val_loss: 0.4395 - val_accuracy: 0.9400\n",
            "Epoch 70/100\n",
            "38/38 [==============================] - 37s 981ms/step - loss: 2.3951e-05 - accuracy: 1.0000 - val_loss: 0.4407 - val_accuracy: 0.9400\n",
            "Epoch 71/100\n",
            "38/38 [==============================] - 37s 982ms/step - loss: 2.3865e-05 - accuracy: 1.0000 - val_loss: 0.4419 - val_accuracy: 0.9400\n",
            "Epoch 72/100\n",
            "38/38 [==============================] - 37s 981ms/step - loss: 2.3528e-05 - accuracy: 1.0000 - val_loss: 0.4435 - val_accuracy: 0.9400\n",
            "Epoch 73/100\n",
            "38/38 [==============================] - 39s 1s/step - loss: 2.2345e-05 - accuracy: 1.0000 - val_loss: 0.4446 - val_accuracy: 0.9400\n",
            "Epoch 74/100\n",
            "38/38 [==============================] - 37s 982ms/step - loss: 2.1733e-05 - accuracy: 1.0000 - val_loss: 0.4461 - val_accuracy: 0.9400\n",
            "Epoch 75/100\n",
            "38/38 [==============================] - 37s 982ms/step - loss: 2.1291e-05 - accuracy: 1.0000 - val_loss: 0.4473 - val_accuracy: 0.9400\n",
            "Epoch 76/100\n",
            "38/38 [==============================] - 37s 981ms/step - loss: 2.1780e-05 - accuracy: 1.0000 - val_loss: 0.4484 - val_accuracy: 0.9400\n",
            "Epoch 77/100\n",
            "38/38 [==============================] - 37s 979ms/step - loss: 2.1601e-05 - accuracy: 1.0000 - val_loss: 0.4512 - val_accuracy: 0.9400\n",
            "Epoch 78/100\n",
            "38/38 [==============================] - 37s 980ms/step - loss: 1.9460e-05 - accuracy: 1.0000 - val_loss: 0.4522 - val_accuracy: 0.9400\n",
            "Epoch 79/100\n",
            "38/38 [==============================] - 37s 981ms/step - loss: 1.9792e-05 - accuracy: 1.0000 - val_loss: 0.4531 - val_accuracy: 0.9400\n",
            "Epoch 80/100\n",
            "38/38 [==============================] - 37s 980ms/step - loss: 1.9032e-05 - accuracy: 1.0000 - val_loss: 0.4538 - val_accuracy: 0.9400\n",
            "Epoch 81/100\n",
            "38/38 [==============================] - 37s 982ms/step - loss: 1.8835e-05 - accuracy: 1.0000 - val_loss: 0.4547 - val_accuracy: 0.9400\n",
            "Epoch 82/100\n",
            "38/38 [==============================] - 37s 982ms/step - loss: 1.8464e-05 - accuracy: 1.0000 - val_loss: 0.4554 - val_accuracy: 0.9400\n",
            "Epoch 83/100\n",
            "38/38 [==============================] - 37s 981ms/step - loss: 1.8373e-05 - accuracy: 1.0000 - val_loss: 0.4559 - val_accuracy: 0.9400\n",
            "Epoch 84/100\n",
            "38/38 [==============================] - 37s 982ms/step - loss: 1.8001e-05 - accuracy: 1.0000 - val_loss: 0.4564 - val_accuracy: 0.9400\n",
            "Epoch 85/100\n",
            "38/38 [==============================] - 37s 981ms/step - loss: 1.7827e-05 - accuracy: 1.0000 - val_loss: 0.4571 - val_accuracy: 0.9400\n",
            "Epoch 86/100\n",
            "38/38 [==============================] - 37s 982ms/step - loss: 1.7221e-05 - accuracy: 1.0000 - val_loss: 0.4577 - val_accuracy: 0.9400\n",
            "Epoch 87/100\n",
            "38/38 [==============================] - 37s 982ms/step - loss: 1.7307e-05 - accuracy: 1.0000 - val_loss: 0.4583 - val_accuracy: 0.9400\n",
            "Epoch 88/100\n",
            "38/38 [==============================] - 37s 983ms/step - loss: 1.7360e-05 - accuracy: 1.0000 - val_loss: 0.4589 - val_accuracy: 0.9400\n",
            "Epoch 89/100\n",
            "38/38 [==============================] - 39s 1s/step - loss: 1.6734e-05 - accuracy: 1.0000 - val_loss: 0.4594 - val_accuracy: 0.9400\n",
            "Epoch 90/100\n",
            "38/38 [==============================] - 37s 983ms/step - loss: 1.6514e-05 - accuracy: 1.0000 - val_loss: 0.4597 - val_accuracy: 0.9400\n",
            "Epoch 91/100\n",
            "38/38 [==============================] - 37s 981ms/step - loss: 1.6800e-05 - accuracy: 1.0000 - val_loss: 0.4601 - val_accuracy: 0.9400\n",
            "Epoch 92/100\n",
            "38/38 [==============================] - 37s 981ms/step - loss: 1.6154e-05 - accuracy: 1.0000 - val_loss: 0.4605 - val_accuracy: 0.9400\n",
            "Epoch 93/100\n",
            "38/38 [==============================] - 37s 982ms/step - loss: 1.6543e-05 - accuracy: 1.0000 - val_loss: 0.4608 - val_accuracy: 0.9400\n",
            "Epoch 94/100\n",
            "38/38 [==============================] - 37s 982ms/step - loss: 1.6477e-05 - accuracy: 1.0000 - val_loss: 0.4611 - val_accuracy: 0.9400\n",
            "Epoch 95/100\n",
            "38/38 [==============================] - 39s 1s/step - loss: 1.5980e-05 - accuracy: 1.0000 - val_loss: 0.4614 - val_accuracy: 0.9400\n",
            "Epoch 96/100\n",
            "38/38 [==============================] - 39s 1s/step - loss: 1.6551e-05 - accuracy: 1.0000 - val_loss: 0.4616 - val_accuracy: 0.9400\n",
            "Epoch 97/100\n",
            "38/38 [==============================] - 37s 982ms/step - loss: 1.5457e-05 - accuracy: 1.0000 - val_loss: 0.4618 - val_accuracy: 0.9400\n",
            "Epoch 98/100\n",
            "38/38 [==============================] - 37s 981ms/step - loss: 1.5562e-05 - accuracy: 1.0000 - val_loss: 0.4619 - val_accuracy: 0.9400\n",
            "Epoch 99/100\n",
            "38/38 [==============================] - 37s 979ms/step - loss: 1.5646e-05 - accuracy: 1.0000 - val_loss: 0.4620 - val_accuracy: 0.9400\n",
            "Epoch 100/100\n",
            "38/38 [==============================] - 37s 979ms/step - loss: 1.5504e-05 - accuracy: 1.0000 - val_loss: 0.4620 - val_accuracy: 0.9400\n"
          ]
        },
        {
          "output_type": "execute_result",
          "data": {
            "text/plain": [
              "<keras.callbacks.History at 0x7e6729614b80>"
            ]
          },
          "metadata": {},
          "execution_count": 45
        }
      ]
    },
    {
      "cell_type": "code",
      "source": [
        "learner.validate(class_names=categories)"
      ],
      "metadata": {
        "colab": {
          "base_uri": "https://localhost:8080/"
        },
        "id": "_6wxq6693jzy",
        "outputId": "6fe97063-62bf-40cf-9f7e-251eb0c34d51"
      },
      "execution_count": null,
      "outputs": [
        {
          "output_type": "stream",
          "name": "stdout",
          "text": [
            "5/5 [==============================] - 4s 591ms/step\n",
            "              precision    recall  f1-score   support\n",
            "\n",
            "       Human       0.93      0.88      0.90        42\n",
            "        GPT4       0.89      0.94      0.92        52\n",
            "        GPT3       1.00      0.98      0.99        56\n",
            "\n",
            "    accuracy                           0.94       150\n",
            "   macro avg       0.94      0.94      0.94       150\n",
            "weighted avg       0.94      0.94      0.94       150\n",
            "\n"
          ]
        },
        {
          "output_type": "execute_result",
          "data": {
            "text/plain": [
              "array([[37,  5,  0],\n",
              "       [ 3, 49,  0],\n",
              "       [ 0,  1, 55]])"
            ]
          },
          "metadata": {},
          "execution_count": 46
        }
      ]
    },
    {
      "cell_type": "code",
      "source": [
        "learner.plot('val_accuracy')"
      ],
      "metadata": {
        "colab": {
          "base_uri": "https://localhost:8080/",
          "height": 508
        },
        "id": "ZJ5mvOUW_h2T",
        "outputId": "c94a7dbe-a280-41d7-b333-354a0983b522"
      },
      "execution_count": null,
      "outputs": [
        {
          "output_type": "stream",
          "name": "stderr",
          "text": [
            "/usr/local/lib/python3.10/dist-packages/ktrain/core.py:786: UserWarning: Validation value for val_accuracy wasn't found in history\n",
            "  warnings.warn(\n"
          ]
        },
        {
          "output_type": "display_data",
          "data": {
            "text/plain": [
              "<Figure size 640x480 with 1 Axes>"
            ],
            "image/png": "[encoded data removed]"
          },
          "metadata": {}
        }
      ]
    },
    {
      "cell_type": "code",
      "source": [
        "learner.plot('accuracy')"
      ],
      "metadata": {
        "colab": {
          "base_uri": "https://localhost:8080/",
          "height": 472
        },
        "id": "luNU7TVz_v3-",
        "outputId": "24cd802d-cb4a-4998-f21b-60b4861c42e8"
      },
      "execution_count": null,
      "outputs": [
        {
          "output_type": "display_data",
          "data": {
            "text/plain": [
              "<Figure size 640x480 with 1 Axes>"
            ],
            "image/png": "[encoded data removed]"
          },
          "metadata": {}
        }
      ]
    },
    {
      "cell_type": "code",
      "source": [
        "learner.plot('loss')"
      ],
      "metadata": {
        "colab": {
          "base_uri": "https://localhost:8080/",
          "height": 472
        },
        "id": "KRySxfixAJ3H",
        "outputId": "6e23c564-982b-49c9-f799-6114852042f2"
      },
      "execution_count": null,
      "outputs": [
        {
          "output_type": "display_data",
          "data": {
            "text/plain": [
              "<Figure size 640x480 with 1 Axes>"
            ],
            "image/png": "[encoded data removed]"
          },
          "metadata": {}
        }
      ]
    },
    {
      "cell_type": "code",
      "source": [
        "learner.view_top_losses(n=5, preproc=trans)"
      ],
      "metadata": {
        "colab": {
          "base_uri": "https://localhost:8080/"
        },
        "id": "LQDmdiVs3qUa",
        "outputId": "88ed5497-6650-43a2-9a1f-1124e09f1304"
      },
      "execution_count": null,
      "outputs": [
        {
          "output_type": "stream",
          "name": "stdout",
          "text": [
            "5/5 [==============================] - 3s 600ms/step\n",
            "----------\n",
            "id:89 | loss:11.2 | true:GPT4 | pred:GPT3)\n",
            "\n",
            "----------\n",
            "id:62 | loss:11.17 | true:GPT4 | pred:GPT3)\n",
            "\n",
            "----------\n",
            "id:123 | loss:10.94 | true:Human | pred:GPT4)\n",
            "\n",
            "----------\n",
            "id:135 | loss:9.43 | true:GPT3 | pred:GPT4)\n",
            "\n",
            "----------\n",
            "id:109 | loss:9.12 | true:GPT3 | pred:GPT4)\n",
            "\n"
          ]
        }
      ]
    },
    {
      "cell_type": "code",
      "source": [
        "predictor = ktrain.get_predictor(learner.model, preproc=trans)"
      ],
      "metadata": {
        "id": "hl9zCNl53wP7"
      },
      "execution_count": null,
      "outputs": []
    },
    {
      "cell_type": "code",
      "source": [
        "x = \"The 1998 FIFA World Cup final was the final match of the 32-team 1998 FIFA World Cup, played on 12 July at the Stade de France (pictured) in Paris, France, between defending champions Brazil and hosts France. Before the match, speculation surrounded the fitness of striker Ronaldo, who was at first left out of Brazil's starting line-up, only to be restored before kick-off. France took the lead shortly before the half-hour mark, when Zinedine Zidane outjumped Leonardo to connect with a header from an in-swinging corner from the right taken by Emmanuel Petit. Zidane scored again, with another header from a corner, shortly before half-time to give France a 2–0 lead. Petit then added a third goal in second-half injury time, striking the ball low into the net following a pass by Patrick Vieira, to complete a 3–0 win for France, giving them their first World Cup title.\""
      ],
      "metadata": {
        "id": "xeFusGz531zz"
      },
      "execution_count": null,
      "outputs": []
    },
    {
      "cell_type": "code",
      "source": [
        "predictor.predict(x)"
      ],
      "metadata": {
        "colab": {
          "base_uri": "https://localhost:8080/",
          "height": 178
        },
        "id": "7cWq8CSP33C9",
        "outputId": "14a2a101-df9a-4602-d7d4-fcc76af268a1"
      },
      "execution_count": 1,
      "outputs": [
        {
          "output_type": "error",
          "ename": "NameError",
          "evalue": "ignored",
          "traceback": [
            "\u001b[0;31m---------------------------------------------------------------------------\u001b[0m",
            "\u001b[0;31mNameError\u001b[0m                                 Traceback (most recent call last)",
            "\u001b[0;32m<ipython-input-1-db36bd4386f6>\u001b[0m in \u001b[0;36m<cell line: 1>\u001b[0;34m()\u001b[0m\n\u001b[0;32m----> 1\u001b[0;31m \u001b[0mpredictor\u001b[0m\u001b[0;34m.\u001b[0m\u001b[0mpredict\u001b[0m\u001b[0;34m(\u001b[0m\u001b[0mx\u001b[0m\u001b[0;34m)\u001b[0m\u001b[0;34m\u001b[0m\u001b[0;34m\u001b[0m\u001b[0m\n\u001b[0m",
            "\u001b[0;31mNameError\u001b[0m: name 'predictor' is not defined"
          ]
        }
      ]
    },
    {
      "cell_type": "code",
      "source": [
        "predictor.save(\"distilbert-ai-classification\")"
      ],
      "metadata": {
        "id": "O4UZWKUw38wf"
      },
      "execution_count": null,
      "outputs": []
    }
  ]
}